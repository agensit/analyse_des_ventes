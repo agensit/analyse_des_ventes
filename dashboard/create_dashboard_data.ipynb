{
 "cells": [
  {
   "cell_type": "markdown",
   "metadata": {},
   "source": [
    "# Create Data for the sales analysis dashboard"
   ]
  },
  {
   "cell_type": "code",
   "execution_count": 1,
   "metadata": {},
   "outputs": [],
   "source": [
    "import pandas as pd\n",
    "import numpy as np"
   ]
  },
  {
   "cell_type": "code",
   "execution_count": 2,
   "metadata": {},
   "outputs": [],
   "source": [
    "data = pd.read_csv('clean_data.csv')"
   ]
  },
  {
   "cell_type": "code",
   "execution_count": 3,
   "metadata": {},
   "outputs": [],
   "source": [
    "# Sales summary in 2019\n",
    "sales = data.groupby(['City','Month', 'Month_num']).sum()[['Sales']]\n",
    "sales = sales.reset_index(2).sort_values('Month_num')[['Sales']]\n",
    "sales = sales.rename(columns={'Sales':'sales_2019'})\n",
    "\n",
    "# targeted sales for 2020 : goal → global increase of 15 %\n",
    "coef = 1.15\n",
    "sales['sales_target'] = sales['sales_2019'] * coef"
   ]
  },
  {
   "cell_type": "markdown",
   "metadata": {},
   "source": [
    "### Sales in 2020"
   ]
  },
  {
   "cell_type": "code",
   "execution_count": 4,
   "metadata": {},
   "outputs": [
    {
     "name": "stderr",
     "output_type": "stream",
     "text": [
      "/Users/axel/Agensit/venv/lib/python3.8/site-packages/pandas/core/indexing.py:671: SettingWithCopyWarning: \n",
      "A value is trying to be set on a copy of a slice from a DataFrame\n",
      "\n",
      "See the caveats in the documentation: https://pandas.pydata.org/pandas-docs/stable/user_guide/indexing.html#returning-a-view-versus-a-copy\n",
      "  self._setitem_with_indexer(indexer, value)\n"
     ]
    }
   ],
   "source": [
    "sales['sales_2020'] = 0\n",
    "\n",
    "def random_rate(x, min_r=97, max_r=108):\n",
    "    return x * np.random.randint(min_r,max_r)/100\n",
    "\n",
    "# Jan & Fev → 0.98 < rate < 1.08\n",
    "past_month = ['Janvier','Février']\n",
    "sales['sales_2020'].loc[:,past_month] = sales['sales_target'].loc[:,past_month].apply(lambda x: random_rate(x))\n",
    "\n",
    "# March → 0.88 < rate < 0.99\n",
    "sales['sales_2020'].loc[:, 'Mars'] = sales['sales_target'].loc[:,'Mars'].apply(lambda x: random_rate(x,88,99)).values"
   ]
  },
  {
   "cell_type": "markdown",
   "metadata": {},
   "source": [
    "### Profit "
   ]
  },
  {
   "cell_type": "code",
   "execution_count": 6,
   "metadata": {},
   "outputs": [],
   "source": [
    "# target profit = 8% of sales_target\n",
    "coef = 0.08\n",
    "sales['profit_target'] = sales['sales_target'] * coef\n",
    "\n",
    "# profit in 2020\n",
    "sales['profit_2020'] = sales['sales_2020'] * coef"
   ]
  },
  {
   "cell_type": "code",
   "execution_count": 8,
   "metadata": {},
   "outputs": [],
   "source": [
    "sales.to_csv('sales_summary.csv')"
   ]
  },
  {
   "cell_type": "code",
   "execution_count": null,
   "metadata": {},
   "outputs": [],
   "source": []
  }
 ],
 "metadata": {
  "kernelspec": {
   "display_name": "Python 3",
   "language": "python",
   "name": "python3"
  },
  "language_info": {
   "codemirror_mode": {
    "name": "ipython",
    "version": 3
   },
   "file_extension": ".py",
   "mimetype": "text/x-python",
   "name": "python",
   "nbconvert_exporter": "python",
   "pygments_lexer": "ipython3",
   "version": "3.8.3"
  }
 },
 "nbformat": 4,
 "nbformat_minor": 4
}
